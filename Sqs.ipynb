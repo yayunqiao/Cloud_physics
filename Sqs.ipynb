{
 "cells": [
  {
   "cell_type": "code",
   "execution_count": null,
   "metadata": {},
   "outputs": [],
   "source": [
    "#Sqs"
   ]
  },
  {
   "cell_type": "code",
   "execution_count": 20,
   "metadata": {},
   "outputs": [],
   "source": [
    "import pylab as py\n",
    "import math as ma\n",
    "# from netCDF4 import Dataset"
   ]
  },
  {
   "cell_type": "code",
   "execution_count": null,
   "metadata": {},
   "outputs": [],
   "source": [
    "# W updraft [m/s]\n",
    "# Nd droplet size distribution with column names 'n' and 'r'\n",
    "# 'n' is number concentration 'r' is radius \n",
    "# T is the temperature degreees celsius\n",
    "# p is the pressure in hpa\n",
    "# return to A two-componetn vextor containing the quasi-steady supersaturation\n",
    "#example \n",
    "#Sqs (W=2., Nd=data.frame(r=2:20, n=c(rep(0,5), rep(50,10), rep(0,4))), T=4.3, p=771)"
   ]
  },
  {
   "cell_type": "code",
   "execution_count": 78,
   "metadata": {},
   "outputs": [
    {
     "name": "stdout",
     "output_type": "stream",
     "text": [
      "8.334658961794448\n"
     ]
    }
   ],
   "source": [
    "#' @title MurphyKoop\n",
    "#' @description Returns the water vapor pressure corresponding to a supplied temperature.\n",
    "#' @details Calculates the equilibrium water vapor pressure according to the \n",
    "#' Murphy-Koop equation\n",
    "#' @param DP A numeric vector containing the dew point in deg. C\n",
    "#' @param P An optional numeric vector representing the total pressure in hPa. Set zero \n",
    "#' to suppress the 'enhancement factor' correction for total pressure. Use the pressure to\n",
    "#' find the equilibrium water vapor in the presence of that total pressure of air.\n",
    "#' @return Water vapor pressure [hPa] in equilibrium with a plane water surface at dew point DP\n",
    "#' @examples \n",
    "#' e <- MurphyKoop (-12.)\n",
    "#' e <- MurphyKoop (10., 800.)\n",
    "#' EW2 <- MurphyKoop (RAFdata$DPXC, RAFdata$PSXC)\n",
    "\n",
    "def MurphyKoop(T, P=0.0):\n",
    "    # returns vapor pressure via Murphy-Koop equations.\n",
    "    # Supply DP=dewpoint (deg C) and optionally P=pressure (hPa),\n",
    "    # the latter for the enhancement-factor correction.\n",
    "    b0 = 9.550426\n",
    "    b1 = -5723.265\n",
    "    b2 = 3.53068\n",
    "    b3 = -0.00728332\n",
    "    b7 = 54.842763\n",
    "    b8 = -6763.22\n",
    "    b9 = -4.210\n",
    "    b10 = 0.000367\n",
    "    b11 = 0.0415\n",
    "    TR2 = 218.8\n",
    "    b12 = 53.878\n",
    "    b13 = -1331.22\n",
    "    b14 = -9.44523\n",
    "    b15 = 0.014025\n",
    "    tk = T + 273.15\n",
    "    ess = ma.exp (b7 + b8 / tk + b9 * ma.log(tk) + b10 * tk + ma.tanh (b11 * (tk - TR2))\n",
    "             * (b12 + b13 / tk + b14 * ma.log(tk) + b15 * tk))\n",
    "    ess = ess/100.\n",
    "    f = 1.e-5 * P * (4.923 - 0.0325 * tk + 5.84e-5 * tk**2)+1.\n",
    "    ess = f * ess\n",
    "    return(ess)\n",
    "\n",
    "ess=MurphyKoop(4.3,771)\n",
    "print(ess)"
   ]
  },
  {
   "cell_type": "code",
   "execution_count": 90,
   "metadata": {},
   "outputs": [],
   "source": [
    "#first we calculat a1 and a2\n",
    "#example T = 4.3, p = 771mb \n",
    "\n",
    "T = 4.3 #C\n",
    "p = 771 #mb\n",
    "W= 1 #m/s\n",
    "\n",
    "\n",
    "Md= 28.9637 # molecular weight of dry air kg kmol-1\n",
    "Mw = 18.0153 # molecular weight of dry water kg kmol-1\n",
    "R0 = 8.314472e3 # J kmol-1 K-1 #universal gas constant \n",
    "Rd = R0/Md\n",
    "Rw= R0/Mw\n",
    "Cp = 1.00473e3 # specific heat of dry air at constant pressure J kg-1 K-1\n",
    "Cv = 0.71766e3 # specific heat of constant volum J kg-1 K-1\n",
    "lhv = (2.501 - 0.00237 * T) * 1.e6 # latent heat of vaporization J/kg\n",
    "Tk = T+273.15\n",
    "pi = 3.14\n",
    "alpha = 1\n",
    "beta = 0.04\n",
    "rho = 100*p / (Rd*Tk)\n",
    "r = 2 #um\n",
    "es = MurphyKoop (T,771)\n",
    "\n",
    "a1 = (9.80/Tk) * (lhv / (Cp*Rw*Tk) - 1/Rd)\n",
    "\n",
    "#for a2, we need aa, ab, and r to get fa, fb.\n",
    "C = 2.40e-2 * (Tk / 273.15)**0.91\n",
    "D = 0.225 * 1.e-4 * (Tk / 273.15)**1.7 * 1013.25 / p\n",
    "aa = C * ma.sqrt(2*pi*R0*Md*Tk) / (alpha * p * 100 * (3*R0))\n",
    "ab = ma.sqrt(2*pi/(Rw*Tk)) * D / beta\n",
    "fa =  r*1.e-6 / (r*1.e-6 + aa)\n",
    "fb =  r*1.e-6 / (r*1.e-6 + ab)\n",
    "a2 = ((4*pi/rho) * ((p*Rw/(Rd*es)) + lhv**2/(Rw*Cp*Tk**2)))/(Rw*Tk/(fb*D*es*100) + lhv**2/(fa*C*Rw*Tk**2))\n",
    "\n",
    "\n",
    "a2I = a2*2*100\n",
    "Sqs = a1*W/a2I #quasi-steady value of the supersaturation \n",
    "tau = 1/a2I #the time constant characterizing approach to Sqs\n",
    "\n"
   ]
  },
  {
   "cell_type": "code",
   "execution_count": 91,
   "metadata": {},
   "outputs": [
    {
     "data": {
      "text/plain": [
       "31.79642075345625"
      ]
     },
     "execution_count": 91,
     "metadata": {},
     "output_type": "execute_result"
    }
   ],
   "source": []
  }
 ],
 "metadata": {
  "kernelspec": {
   "display_name": "Python 3",
   "language": "python",
   "name": "python3"
  },
  "language_info": {
   "codemirror_mode": {
    "name": "ipython",
    "version": 3
   },
   "file_extension": ".py",
   "mimetype": "text/x-python",
   "name": "python",
   "nbconvert_exporter": "python",
   "pygments_lexer": "ipython3",
   "version": "3.8.3"
  }
 },
 "nbformat": 4,
 "nbformat_minor": 4
}
